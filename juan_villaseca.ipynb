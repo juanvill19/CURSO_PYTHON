{
  "nbformat": 4,
  "nbformat_minor": 0,
  "metadata": {
    "colab": {
      "name": "juan_villaseca.ipynb",
      "provenance": [],
      "authorship_tag": "ABX9TyN/8YyBQZ9zcNci9eAlFII5",
      "include_colab_link": true
    },
    "kernelspec": {
      "name": "python3",
      "display_name": "Python 3"
    },
    "language_info": {
      "name": "python"
    }
  },
  "cells": [
    {
      "cell_type": "markdown",
      "metadata": {
        "id": "view-in-github",
        "colab_type": "text"
      },
      "source": [
        "<a href=\"https://colab.research.google.com/github/juanvill19/CURSO_PYTHON/blob/main/juan_villaseca.ipynb\" target=\"_parent\"><img src=\"https://colab.research.google.com/assets/colab-badge.svg\" alt=\"Open In Colab\"/></a>"
      ]
    },
    {
      "cell_type": "code",
      "metadata": {
        "id": "bwwde7-zdd69",
        "colab": {
          "base_uri": "https://localhost:8080/"
        },
        "outputId": "6407b84d-e9f1-48a4-9bf9-353d2b73d438"
      },
      "source": [
        "x = 8\n",
        "y = x\n",
        "\n",
        "print(y)\n",
        "\n"
      ],
      "execution_count": null,
      "outputs": [
        {
          "output_type": "stream",
          "text": [
            "8\n"
          ],
          "name": "stdout"
        }
      ]
    },
    {
      "cell_type": "code",
      "metadata": {
        "id": "ITU-ZwmVj1gn"
      },
      "source": [
        "#tipo bool\n",
        "varaible_verdadera = True \n",
        "variable_falsa = False\n",
        "\n",
        "type(varaible_false = True)\n",
        "\n"
      ],
      "execution_count": null,
      "outputs": []
    },
    {
      "cell_type": "code",
      "metadata": {
        "id": "48l5gVX-lccW"
      },
      "source": [
        "#numerobinario\n"
      ],
      "execution_count": null,
      "outputs": []
    },
    {
      "cell_type": "code",
      "metadata": {
        "id": "Vk9i3x14li9l"
      },
      "source": [
        "#cadenadetexto\n",
        "cadena = \"esto es una cadena de texto\"\n",
        "\n",
        "type(cadena)\n",
        "cadena"
      ],
      "execution_count": null,
      "outputs": []
    }
  ]
}